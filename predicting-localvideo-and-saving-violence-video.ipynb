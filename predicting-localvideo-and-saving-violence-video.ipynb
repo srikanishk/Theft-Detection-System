{
 "cells": [
  {
   "cell_type": "code",
   "execution_count": 1,
   "metadata": {},
   "outputs": [],
   "source": [
    "from __future__ import absolute_import\n",
    "from __future__  import division\n",
    "from __future__ import print_function\n",
    "import tensorflow as tf\n",
    "import numpy as np\n",
    "from skimage.io import imread\n",
    "from skimage.transform import resize\n",
    "import cv2\n",
    "import numpy as np\n",
    "import pandas as pd\n",
    "import matplotlib.pyplot as plt"
   ]
  },
  {
   "cell_type": "code",
   "execution_count": 2,
   "metadata": {},
   "outputs": [],
   "source": [
    "import os"
   ]
  },
  {
   "cell_type": "code",
   "execution_count": 3,
   "metadata": {},
   "outputs": [],
   "source": [
    "from mamonfight22 import *"
   ]
  },
  {
   "cell_type": "code",
   "execution_count": null,
   "metadata": {},
   "outputs": [],
   "source": []
  },
  {
   "cell_type": "code",
   "execution_count": 4,
   "metadata": {},
   "outputs": [],
   "source": [
    "model = mamon_videoFightModel2(tf,wight='mamonedeffrbktoldmmon.hdf5')"
   ]
  },
  {
   "cell_type": "code",
   "execution_count": 29,
   "metadata": {},
   "outputs": [
    {
     "name": "stdout",
     "output_type": "stream",
     "text": [
      "Violance detacted here ...\n",
      "Violance detacted here ...\n",
      "Violance detacted here ...\n",
      "Violance detacted here ...\n"
     ]
    },
    {
     "ename": "AttributeError",
     "evalue": "'NoneType' object has no attribute 'shape'",
     "output_type": "error",
     "traceback": [
      "\u001b[0;31m---------------------------------------------------------------------------\u001b[0m",
      "\u001b[0;31mAttributeError\u001b[0m                            Traceback (most recent call last)",
      "\u001b[0;32m<ipython-input-29-cb596c96d213>\u001b[0m in \u001b[0;36m<module>\u001b[0;34m\u001b[0m\n\u001b[1;32m     35\u001b[0m         \u001b[0mold\u001b[0m \u001b[0;34m=\u001b[0m \u001b[0;34m[\u001b[0m\u001b[0;34m]\u001b[0m\u001b[0;34m\u001b[0m\u001b[0;34m\u001b[0m\u001b[0m\n\u001b[1;32m     36\u001b[0m     \u001b[0;32melse\u001b[0m\u001b[0;34m:\u001b[0m\u001b[0;34m\u001b[0m\u001b[0;34m\u001b[0m\u001b[0m\n\u001b[0;32m---> 37\u001b[0;31m         \u001b[0mfrm\u001b[0m \u001b[0;34m=\u001b[0m \u001b[0mresize\u001b[0m\u001b[0;34m(\u001b[0m\u001b[0mframe\u001b[0m\u001b[0;34m,\u001b[0m\u001b[0;34m(\u001b[0m\u001b[0;36m160\u001b[0m\u001b[0;34m,\u001b[0m\u001b[0;36m160\u001b[0m\u001b[0;34m,\u001b[0m\u001b[0;36m3\u001b[0m\u001b[0;34m)\u001b[0m\u001b[0;34m)\u001b[0m\u001b[0;34m\u001b[0m\u001b[0;34m\u001b[0m\u001b[0m\n\u001b[0m\u001b[1;32m     38\u001b[0m         \u001b[0mold\u001b[0m\u001b[0;34m.\u001b[0m\u001b[0mappend\u001b[0m\u001b[0;34m(\u001b[0m\u001b[0mframe\u001b[0m\u001b[0;34m)\u001b[0m\u001b[0;34m\u001b[0m\u001b[0;34m\u001b[0m\u001b[0m\n\u001b[1;32m     39\u001b[0m         \u001b[0mfshape\u001b[0m \u001b[0;34m=\u001b[0m \u001b[0mframe\u001b[0m\u001b[0;34m.\u001b[0m\u001b[0mshape\u001b[0m\u001b[0;34m\u001b[0m\u001b[0;34m\u001b[0m\u001b[0m\n",
      "\u001b[0;32m~/.conda/envs/data-mamon/lib/python3.7/site-packages/skimage/transform/_warps.py\u001b[0m in \u001b[0;36mresize\u001b[0;34m(image, output_shape, order, mode, cval, clip, preserve_range, anti_aliasing, anti_aliasing_sigma)\u001b[0m\n\u001b[1;32m     89\u001b[0m     \u001b[0moutput_shape\u001b[0m \u001b[0;34m=\u001b[0m \u001b[0mtuple\u001b[0m\u001b[0;34m(\u001b[0m\u001b[0moutput_shape\u001b[0m\u001b[0;34m)\u001b[0m\u001b[0;34m\u001b[0m\u001b[0;34m\u001b[0m\u001b[0m\n\u001b[1;32m     90\u001b[0m     \u001b[0moutput_ndim\u001b[0m \u001b[0;34m=\u001b[0m \u001b[0mlen\u001b[0m\u001b[0;34m(\u001b[0m\u001b[0moutput_shape\u001b[0m\u001b[0;34m)\u001b[0m\u001b[0;34m\u001b[0m\u001b[0;34m\u001b[0m\u001b[0m\n\u001b[0;32m---> 91\u001b[0;31m     \u001b[0minput_shape\u001b[0m \u001b[0;34m=\u001b[0m \u001b[0mimage\u001b[0m\u001b[0;34m.\u001b[0m\u001b[0mshape\u001b[0m\u001b[0;34m\u001b[0m\u001b[0;34m\u001b[0m\u001b[0m\n\u001b[0m\u001b[1;32m     92\u001b[0m     \u001b[0;32mif\u001b[0m \u001b[0moutput_ndim\u001b[0m \u001b[0;34m>\u001b[0m \u001b[0mimage\u001b[0m\u001b[0;34m.\u001b[0m\u001b[0mndim\u001b[0m\u001b[0;34m:\u001b[0m\u001b[0;34m\u001b[0m\u001b[0;34m\u001b[0m\u001b[0m\n\u001b[1;32m     93\u001b[0m         \u001b[0;31m# append dimensions to input_shape\u001b[0m\u001b[0;34m\u001b[0m\u001b[0;34m\u001b[0m\u001b[0;34m\u001b[0m\u001b[0m\n",
      "\u001b[0;31mAttributeError\u001b[0m: 'NoneType' object has no attribute 'shape'"
     ]
    }
   ],
   "source": [
    "cap = cv2.VideoCapture('hospital.mp4')\n",
    "i = 0\n",
    "frames = np.zeros((30, 160, 160, 3), dtype=np.float)\n",
    "old = []\n",
    "j = 0\n",
    "while(True):\n",
    "    ret, frame = cap.read()\n",
    "  \n",
    "    # describe the type of font\n",
    "    # to be used.\n",
    "    font = cv2.FONT_HERSHEY_SIMPLEX\n",
    "    if i > 29:\n",
    "        ysdatav2 = np.zeros((1, 30, 160, 160, 3), dtype=np.float)\n",
    "        ysdatav2[0][:][:] = frames\n",
    "        predaction = pred_fight(model,ysdatav2,acuracy=0.96)\n",
    "        if predaction[0] == True:\n",
    "            cv2.putText(frame, \n",
    "                'Violance Deacted  ... Violence .. violence', \n",
    "                (50, 50), \n",
    "                font, 3, \n",
    "                (0, 255, 255), \n",
    "                2, \n",
    "                cv2.LINE_4)\n",
    "            cv2.imshow('video', frame)\n",
    "            print('Violance detacted here ...')\n",
    "            fourcc = cv2.VideoWriter_fourcc(*'XVID')\n",
    "            vio = cv2.VideoWriter(\"./videos/output-\"+str(j)+\".avi\", fourcc, 10.0, (fwidth,fheight))\n",
    "            #vio = cv2.VideoWriter(\"./videos/output-\"+str(j)+\".mp4\", cv2.VideoWriter_fourcc(*'mp4v'), 10, (300, 400))\n",
    "            for frameinss in old:\n",
    "                vio.write(frameinss)\n",
    "            vio.release()\n",
    "        i = 0\n",
    "        j += 1\n",
    "        frames = np.zeros((30, 160, 160, 3), dtype=np.float)\n",
    "        old = []\n",
    "    else:\n",
    "        frm = resize(frame,(160,160,3))\n",
    "        old.append(frame)\n",
    "        fshape = frame.shape\n",
    "        fheight = fshape[0]\n",
    "        fwidth = fshape[1]\n",
    "        frm = np.expand_dims(frm,axis=0)\n",
    "        if(np.max(frm)>1):\n",
    "            frm = frm/255.0\n",
    "        frames[i][:] = frm\n",
    "        \n",
    "        i+=1\n",
    "    \n",
    "    cv2.imshow('video', frame)\n",
    "  \n",
    "\n",
    "    if cv2.waitKey(1) & 0xFF == ord('q'):\n",
    "        break\n",
    "\n",
    "cap.release()\n",
    "\n",
    "cv2.destroyAllWindows()"
   ]
  },
  {
   "cell_type": "code",
   "execution_count": null,
   "metadata": {},
   "outputs": [],
   "source": [
    "import time\n",
    "millis = int(round(time.time() * 1000))\n",
    "print(\"started at \" , millis)\n",
    "vid = video_mamonreader(cv2,'dvpalfight.dvd')\n",
    "millis2 = int(round(time.time() * 1000))\n",
    "print(\"time processing \" , millis2 - millis)"
   ]
  },
  {
   "cell_type": "code",
   "execution_count": null,
   "metadata": {},
   "outputs": [],
   "source": [
    "datav = np.zeros((1, 30, 160, 160, 3), dtype=np.float)"
   ]
  },
  {
   "cell_type": "code",
   "execution_count": null,
   "metadata": {},
   "outputs": [],
   "source": [
    "datav[0][:][:] = vid"
   ]
  },
  {
   "cell_type": "code",
   "execution_count": null,
   "metadata": {},
   "outputs": [],
   "source": [
    "millis = int(round(time.time() * 1000))\n",
    "print(\"started at \" , millis)\n",
    "print(pred_fight(model,datav,acuracy=0.6))\n",
    "millis2 = int(round(time.time() * 1000))\n",
    "print(\"time processing \" , millis2 - millis)"
   ]
  },
  {
   "cell_type": "code",
   "execution_count": null,
   "metadata": {},
   "outputs": [],
   "source": [
    "def video_mamonreader(cv2,filename):\n",
    "    frames = np.zeros((30, 160, 160, 3), dtype=np.float)\n",
    "    i=0\n",
    "    print(frames.shape)\n",
    "    vc = cv2.VideoCapture(filename)\n",
    "    if vc.isOpened():\n",
    "        rval , frame = vc.read()\n",
    "    else:\n",
    "        rval = False\n",
    "    frm = resize(frame,(160,160,3))\n",
    "    frm = np.expand_dims(frm,axis=0)\n",
    "    if(np.max(frm)>1):\n",
    "        frm = frm/255.0\n",
    "    frames[i][:] = frm\n",
    "    i +=1\n",
    "    print(\"reading video\")\n",
    "    while i < 30:\n",
    "        rval, frame = vc.read()\n",
    "        frm = resize(frame,(160,160,3))\n",
    "        frm = np.expand_dims(frm,axis=0)\n",
    "        if(np.max(frm)>1):\n",
    "            frm = frm/255.0\n",
    "        frames[i][:] = frm\n",
    "        i +=1\n",
    "    return frames"
   ]
  },
  {
   "cell_type": "code",
   "execution_count": null,
   "metadata": {},
   "outputs": [],
   "source": [
    "novid = video_mamonreader(cv2,'nofight.mp4')"
   ]
  },
  {
   "cell_type": "code",
   "execution_count": null,
   "metadata": {},
   "outputs": [],
   "source": [
    "nodatav = np.zeros((1, 40, 170, 170, 3), dtype=np.float)"
   ]
  },
  {
   "cell_type": "code",
   "execution_count": null,
   "metadata": {},
   "outputs": [],
   "source": [
    "nodatav[0][:][:] = novid"
   ]
  },
  {
   "cell_type": "code",
   "execution_count": null,
   "metadata": {},
   "outputs": [],
   "source": [
    "pred_fight(model,nodatav,acuracy=0.6)"
   ]
  },
  {
   "cell_type": "code",
   "execution_count": null,
   "metadata": {},
   "outputs": [],
   "source": []
  },
  {
   "cell_type": "code",
   "execution_count": 6,
   "metadata": {},
   "outputs": [
    {
     "name": "stdout",
     "output_type": "stream",
     "text": [
      "(30, 160, 160, 3)\n",
      "reading video\n"
     ]
    }
   ],
   "source": [
    "ysvid2 = video_mamonreader(cv2,'hdfight.mp4')"
   ]
  },
  {
   "cell_type": "code",
   "execution_count": 7,
   "metadata": {},
   "outputs": [],
   "source": [
    "ysdatav2 = np.zeros((1, 30, 160, 160, 3), dtype=np.float)"
   ]
  },
  {
   "cell_type": "code",
   "execution_count": 8,
   "metadata": {},
   "outputs": [],
   "source": [
    "ysdatav2[0][:][:] = ysvid2"
   ]
  },
  {
   "cell_type": "code",
   "execution_count": 9,
   "metadata": {},
   "outputs": [
    {
     "name": "stdout",
     "output_type": "stream",
     "text": [
      "started at  1625751803800\n",
      "(True, 0.9841797)\n",
      "time processing  8053\n"
     ]
    }
   ],
   "source": [
    "import time\n",
    "\n",
    "millis = int(round(time.time() * 1000))\n",
    "print(\"started at \" , millis)\n",
    "predaction = pred_fight(model,ysdatav2,acuracy=0.9)\n",
    "print(predaction)\n",
    "millis2 = int(round(time.time() * 1000))\n",
    "print(\"time processing \" , millis2 - millis)\n"
   ]
  },
  {
   "cell_type": "code",
   "execution_count": 11,
   "metadata": {},
   "outputs": [
    {
     "name": "stdout",
     "output_type": "stream",
     "text": [
      "violence\n"
     ]
    }
   ],
   "source": [
    "if predaction[0] == True:\n",
    "    print('violence')"
   ]
  },
  {
   "cell_type": "code",
   "execution_count": null,
   "metadata": {},
   "outputs": [],
   "source": [
    "novid3 = video_mamonreader(cv2,'golsss.mp4')"
   ]
  },
  {
   "cell_type": "code",
   "execution_count": null,
   "metadata": {},
   "outputs": [],
   "source": [
    "nodatav3 = np.zeros((1, 30, 160, 160, 3), dtype=np.float)\n",
    "nodatav3[0][:][:] = novid3"
   ]
  },
  {
   "cell_type": "code",
   "execution_count": null,
   "metadata": {},
   "outputs": [],
   "source": [
    "millis = int(round(time.time() * 1000))\n",
    "print(\"started at \" , millis)\n",
    "print(pred_fight(model,nodatav3,acuracy=0.8))\n",
    "millis2 = int(round(time.time() * 1000))\n",
    "print(\"time processing \" , millis2 - millis)\n"
   ]
  },
  {
   "cell_type": "code",
   "execution_count": null,
   "metadata": {},
   "outputs": [],
   "source": [
    "\n",
    "novid4 = video_mamonreader(cv2,'dvpalfight.dvd')"
   ]
  },
  {
   "cell_type": "code",
   "execution_count": null,
   "metadata": {},
   "outputs": [],
   "source": [
    "nodatav4 = np.zeros((1, 30, 160, 160, 3), dtype=np.float)\n",
    "nodatav4[0][:][:] = novid4"
   ]
  },
  {
   "cell_type": "code",
   "execution_count": null,
   "metadata": {},
   "outputs": [],
   "source": [
    "millis = int(round(time.time() * 1000))\n",
    "print(\"started at \" , millis)\n",
    "print(pred_fight(model,nodatav4,acuracy=0.9))\n",
    "millis2 = int(round(time.time() * 1000))\n",
    "print(\"time processing \" , millis2 - millis)"
   ]
  },
  {
   "cell_type": "code",
   "execution_count": null,
   "metadata": {},
   "outputs": [],
   "source": []
  }
 ],
 "metadata": {
  "kernelspec": {
   "display_name": "Python 3 (ipykernel)",
   "language": "python",
   "name": "python3"
  },
  "language_info": {
   "codemirror_mode": {
    "name": "ipython",
    "version": 3
   },
   "file_extension": ".py",
   "mimetype": "text/x-python",
   "name": "python",
   "nbconvert_exporter": "python",
   "pygments_lexer": "ipython3",
   "version": "3.10.2"
  }
 },
 "nbformat": 4,
 "nbformat_minor": 4
}
